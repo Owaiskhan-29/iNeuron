{
 "cells": [
  {
   "cell_type": "markdown",
   "id": "d9580159",
   "metadata": {},
   "source": [
    "# 1 Write a recursive python function to print first N natural numbers.  "
   ]
  },
  {
   "cell_type": "code",
   "execution_count": 1,
   "id": "5863e155",
   "metadata": {},
   "outputs": [
    {
     "name": "stdout",
     "output_type": "stream",
     "text": [
      "1\n",
      "2\n",
      "3\n",
      "4\n",
      "5\n"
     ]
    }
   ],
   "source": [
    "def print_N(n):\n",
    "    if n>0:\n",
    "        print_N(n-1)\n",
    "        print(n)\n",
    "print_N(5)"
   ]
  },
  {
   "cell_type": "markdown",
   "id": "7d31df08",
   "metadata": {},
   "source": [
    "# 2. Write a recursive python function to print first N natural numbers in reverse order"
   ]
  },
  {
   "cell_type": "code",
   "execution_count": 2,
   "id": "e609cf2e",
   "metadata": {},
   "outputs": [
    {
     "name": "stdout",
     "output_type": "stream",
     "text": [
      "6\n",
      "5\n",
      "4\n",
      "3\n",
      "2\n",
      "1\n"
     ]
    }
   ],
   "source": [
    "def print_rev(n):\n",
    "    if n>0:\n",
    "        print(n)\n",
    "        print_rev(n-1)\n",
    "print_rev(6)"
   ]
  },
  {
   "cell_type": "markdown",
   "id": "f174033b",
   "metadata": {},
   "source": [
    "# Write a recursive python function to print first N odd natural numbersm"
   ]
  },
  {
   "cell_type": "code",
   "execution_count": 9,
   "id": "31018311",
   "metadata": {},
   "outputs": [
    {
     "name": "stdout",
     "output_type": "stream",
     "text": [
      "1\n",
      "3\n",
      "5\n",
      "7\n"
     ]
    }
   ],
   "source": [
    "def nodd(n):    \n",
    "    if n>0:     # check natural number or not \n",
    "        nodd(n-1) # recursive step\n",
    "        if n%2!=0:   # check the numbe is odd or not \n",
    "            print(n)  # print the number\n",
    "nodd(8)"
   ]
  },
  {
   "cell_type": "markdown",
   "id": "1f061b23",
   "metadata": {},
   "source": [
    "# 4. Write a recursive python function to print first N odd natural numbers in reverse order"
   ]
  },
  {
   "cell_type": "code",
   "execution_count": 4,
   "id": "7766b7c3",
   "metadata": {},
   "outputs": [
    {
     "name": "stdout",
     "output_type": "stream",
     "text": [
      "9\n",
      "7\n",
      "5\n",
      "3\n",
      "1\n"
     ]
    }
   ],
   "source": [
    "def nodd_rev(n):\n",
    "    if n>0:  # check natural number if not then function will not run\n",
    "        \n",
    "        if n%2!=0:   #check whether the number is odd or not\n",
    "            \n",
    "            print(n)   # print first n value\n",
    "            nodd_rev(n-1)  # recurvire step eg. if n=7 then nodd_rev(7-1) or nodd_rev(6)\n",
    "        else :\n",
    "            nodd_rev(n-1) # if it is not odd number then here, it is recursive step if we dont put recursive step here the program will end if number is not odd\n",
    "        \n",
    "nodd_rev(10)  #function calling"
   ]
  },
  {
   "cell_type": "markdown",
   "id": "efed4df7",
   "metadata": {},
   "source": [
    "# 5. Write a recursive python function to print first N even natural numbers."
   ]
  },
  {
   "cell_type": "code",
   "execution_count": 7,
   "id": "be1b6968",
   "metadata": {},
   "outputs": [
    {
     "name": "stdout",
     "output_type": "stream",
     "text": [
      "2\n",
      "4\n",
      "6\n",
      "8\n",
      "10\n"
     ]
    }
   ],
   "source": [
    "def evenN(n):    \n",
    "    if n>0:     # check natural number or not \n",
    "        \n",
    "        evenN(n-1) # recursive step\n",
    "        \n",
    "        if n%2==0:   # check the numbe is even or not \n",
    "            print(n)  # print the number\n",
    "\n",
    "evenN(10)"
   ]
  },
  {
   "cell_type": "markdown",
   "id": "eafe5ace",
   "metadata": {},
   "source": [
    "# 6. Write a recursive python function to print first N even natural numbers in reverse order."
   ]
  },
  {
   "cell_type": "code",
   "execution_count": 6,
   "id": "e2ba7375",
   "metadata": {},
   "outputs": [
    {
     "name": "stdout",
     "output_type": "stream",
     "text": [
      "10\n",
      "8\n",
      "6\n",
      "4\n",
      "2\n"
     ]
    }
   ],
   "source": [
    "def rev_even(n):\n",
    "    if n>0:                 # check natural number if not then function will not run\n",
    "        \n",
    "        if n%2==0:          # check whether the number is even or not\n",
    "            \n",
    "            print(n)        # print first n value  \n",
    "            rev_even(n-1)   # recurvire step eg. if n=7 then rev_even(7-1) or rev_even(6)\n",
    "        else :\n",
    "            \n",
    "            rev_even(n-1)   # if it is not even number then here, it is recursive step if we dont put recursive step here the program will end if number is not even\n",
    "\n",
    "rev_even(10)   #function calling"
   ]
  },
  {
   "cell_type": "markdown",
   "id": "02b8402d",
   "metadata": {},
   "source": [
    "# 7. Write a recursive python function to print squares of first N natural numbers"
   ]
  },
  {
   "cell_type": "code",
   "execution_count": 11,
   "id": "a6f604c6",
   "metadata": {},
   "outputs": [
    {
     "data": {
      "text/plain": [
       "14"
      ]
     },
     "execution_count": 11,
     "metadata": {},
     "output_type": "execute_result"
    }
   ],
   "source": [
    "def squr_natural(n): \n",
    "    if n==1:  # check the natural number\n",
    "        return n \n",
    "    r=n*n + squr_natural(n-1)  # recursive fuction\n",
    "    return r        # return the calculation \n",
    "    \n",
    "squr_natural(3)\n",
    "\n",
    "    "
   ]
  },
  {
   "cell_type": "markdown",
   "id": "e78ea236",
   "metadata": {},
   "source": [
    "# 8. Write a recursive python function to print cubes of first N natural numbers"
   ]
  },
  {
   "cell_type": "code",
   "execution_count": 16,
   "id": "83b36814",
   "metadata": {},
   "outputs": [
    {
     "data": {
      "text/plain": [
       "36"
      ]
     },
     "execution_count": 16,
     "metadata": {},
     "output_type": "execute_result"
    }
   ],
   "source": [
    "def cube(n): \n",
    "    if n==1:  # check the natural number\n",
    "        return n \n",
    "    r=n*n*n+ cube(n-1)  # recursive fuction\n",
    "    return r        # return the calculation \n",
    "    \n",
    "cube(3)\n"
   ]
  },
  {
   "cell_type": "markdown",
   "id": "669ea6f4",
   "metadata": {},
   "source": [
    "# 9. Write a recursive python function to print first N multiples of a given number."
   ]
  },
  {
   "cell_type": "code",
   "execution_count": 2,
   "id": "a97c72cf",
   "metadata": {},
   "outputs": [
    {
     "name": "stdout",
     "output_type": "stream",
     "text": [
      "enter the number : 5\n",
      "enter the limit : 5\n",
      "5 10 20 40 80  \n"
     ]
    }
   ],
   "source": [
    "def multiples(n <-,m):\n",
    "    if m<=0 :\n",
    "        print(\" \")\n",
    "\n",
    "    else :\n",
    "        print(n,end=\" \")\n",
    "        multiples(n+n,m-1)\n",
    "n,m=int(input(\"enter the number : \")),int(input(\"enter the limit : \"))\n",
    "multiples(n,m)"
   ]
  },
  {
   "cell_type": "markdown",
   "id": "241ce172",
   "metadata": {},
   "source": [
    "# 10. Write a recursive python function to print a number in reverse order."
   ]
  },
  {
   "cell_type": "code",
   "execution_count": 4,
   "id": "77be1508",
   "metadata": {},
   "outputs": [
    {
     "name": "stdout",
     "output_type": "stream",
     "text": [
      "6\n",
      "5\n",
      "4\n",
      "3\n",
      "2\n",
      "1\n"
     ]
    }
   ],
   "source": [
    "def rev(n):\n",
    "    if n>0: \n",
    "        print(n)\n",
    "        rev(n-1)\n",
    "rev(6)"
   ]
  },
  {
   "cell_type": "code",
   "execution_count": null,
   "id": "86f6249e",
   "metadata": {},
   "outputs": [],
   "source": []
  }
 ],
 "metadata": {
  "kernelspec": {
   "display_name": "Python 3 (ipykernel)",
   "language": "python",
   "name": "python3"
  },
  "language_info": {
   "codemirror_mode": {
    "name": "ipython",
    "version": 3
   },
   "file_extension": ".py",
   "mimetype": "text/x-python",
   "name": "python",
   "nbconvert_exporter": "python",
   "pygments_lexer": "ipython3",
   "version": "3.10.5"
  }
 },
 "nbformat": 4,
 "nbformat_minor": 5
}
