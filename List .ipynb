{
 "cells": [
  {
   "cell_type": "markdown",
   "id": "7b5b717b",
   "metadata": {},
   "source": [
    "1. Write a python script to store multiple items in a single variable ( Items are “Java”,“Python”, “SQL”, “C” ) using list\n",
    "2. Write a python script to get the data type of a list.\n",
    "3. Write a python script to get the last item of the list ( mylist = [\"Java\", \"C\", \"Python\"])\n",
    "4. Write a python script to Change the values \"SQL\" and \"Reactnative\" with the values\n",
    "\"NoSQL\" and \"Flutter\" (List is thislist = [\"Java\", \"SQL\", \"C\", \"Reactnative\",\n",
    "\"Javascript\", \"Python\"]\n",
    "5. Write a python script to add an item to the end of the list (item “Python”. (mylist =\n",
    "[\"Java\", \"SQL\", \"C\", \"Reactnative\"]\n",
    "6. Write a python program to append elements from another list to the current list.(\n",
    "firstlist = [\"Java\", \"Python\", \"SQL\"]\n",
    "secondlist = [\"C\", \"Cpp\", \"NoSQL\"] )\n",
    "7. Write a python program to Print all items by referring to their index number (thislist =\n",
    "[\"Java\", \"SQL\", \"C\", \"Reactnative\", \"Javascript\", \"Python\"]\n",
    "8. Write a python program to sort the list alphanumerically – thislist = [\"Java\", \"SQL\",\n",
    "\"C\", \"Reactjs\", \"Javascript\", \"Python\"]\n",
    "9. Write a Python script to create a list of city names taken from the user.\n",
    "10. Write a Python script to create a list, where each element of the list is a digit of a\n",
    "given number."
   ]
  },
  {
   "cell_type": "markdown",
   "id": "9670f77e",
   "metadata": {},
   "source": [
    "# 1. Write a python script to store multiple items in a single variable ( Items are “Java”,“Python”, “SQL”, “C” ) using list"
   ]
  },
  {
   "cell_type": "code",
   "execution_count": 1,
   "id": "1b32459b",
   "metadata": {},
   "outputs": [
    {
     "name": "stdout",
     "output_type": "stream",
     "text": [
      "['Java', 'Python', 'SQL', 'C']\n"
     ]
    }
   ],
   "source": [
    "lis=[\"Java\",\"Python\",\"SQL\",\"C\"]\n",
    "print(lis)"
   ]
  },
  {
   "cell_type": "markdown",
   "id": "eb76324a",
   "metadata": {},
   "source": [
    "# 2. Write a python script to get the data type of a list."
   ]
  },
  {
   "cell_type": "code",
   "execution_count": 3,
   "id": "bfa19d00",
   "metadata": {},
   "outputs": [
    {
     "data": {
      "text/plain": [
       "list"
      ]
     },
     "execution_count": 3,
     "metadata": {},
     "output_type": "execute_result"
    }
   ],
   "source": [
    "lis=[\"abc\",\"mno\",\"xyz\"]\n",
    "type(lis) "
   ]
  },
  {
   "cell_type": "markdown",
   "id": "f5a4e2ec",
   "metadata": {},
   "source": [
    "# 3. Write a python script to get the last item of the list ( mylist = [\"Java\", \"C\", \"Python\"])"
   ]
  },
  {
   "cell_type": "code",
   "execution_count": 6,
   "id": "b8fcc10a",
   "metadata": {},
   "outputs": [
    {
     "data": {
      "text/plain": [
       "'Python'"
      ]
     },
     "execution_count": 6,
     "metadata": {},
     "output_type": "execute_result"
    }
   ],
   "source": [
    "mylist=[\"java\",\"c\",\"Python\"]\n",
    "mylist[2] # python is last item in the list"
   ]
  },
  {
   "cell_type": "markdown",
   "id": "701aab81",
   "metadata": {},
   "source": [
    "# 4. Write a python script to Change the values \"SQL\" and \"Reactnative\" with the values \"NoSQL\" and \"Flutter\" (List is thislist = [\"Java\", \"SQL\", \"C\", \"Reactnative\", \"Javascript\", \"Python\"]"
   ]
  },
  {
   "cell_type": "code",
   "execution_count": 9,
   "id": "608c9e54",
   "metadata": {},
   "outputs": [
    {
     "name": "stdout",
     "output_type": "stream",
     "text": [
      "['Java', 'NoSQL', 'C', 'Flutter', 'Javascript', 'Python']\n"
     ]
    }
   ],
   "source": [
    "thislist = [\"Java\", \"SQL\", \"C\", \"Reactnative\", \"Javascript\", \"Python\"]\n",
    "\n",
    "for i in range(len(thislist)) : # loop is check each value of the list\n",
    "    if thislist[i]==\"SQL\": \n",
    "        thislist[i]=\"NoSQL\"\n",
    "        \n",
    "    if thislist[i]==\"Reactnative\":\n",
    "        thislist[i]=\"Flutter\"\n",
    "print(thislist)"
   ]
  },
  {
   "cell_type": "markdown",
   "id": "fa8ab88f",
   "metadata": {},
   "source": [
    "# 5. Write a python script to add an item to the end of the list (item “Python”. (mylist = [\"Java\", \"SQL\", \"C\", \"Reactnative\"]"
   ]
  },
  {
   "cell_type": "code",
   "execution_count": 12,
   "id": "b2acf855",
   "metadata": {},
   "outputs": [
    {
     "name": "stdout",
     "output_type": "stream",
     "text": [
      "['Java', 'SQL', 'C', 'Reactnative', 'python']\n"
     ]
    }
   ],
   "source": [
    "mylist = [\"Java\", \"SQL\", \"C\", \"Reactnative\"] # list\n",
    "\n",
    "mylist.append(\"python\") # add python in the end of the list\n",
    "print(mylist)"
   ]
  },
  {
   "cell_type": "markdown",
   "id": "69b4cee6",
   "metadata": {},
   "source": [
    "# 6. Write a python program to append elements from another list to the current list.( firstlist = [\"Java\", \"Python\", \"SQL\"] secondlist = [\"C\", \"Cpp\", \"NoSQL\"] )"
   ]
  },
  {
   "cell_type": "code",
   "execution_count": 14,
   "id": "8f06ded6",
   "metadata": {},
   "outputs": [
    {
     "name": "stdout",
     "output_type": "stream",
     "text": [
      "['Java', 'Python', 'SQL', 'C', 'Cpp', 'NoSQL']\n"
     ]
    }
   ],
   "source": [
    "firstlist = [\"Java\", \"Python\", \"SQL\"] #current list\n",
    "secondlist = [\"C\", \"Cpp\", \"NoSQL\"] # second list\n",
    "\n",
    "for i in secondlist :\n",
    "    firstlist.append(i) # add the element in the end\n",
    "print(firstlist)"
   ]
  },
  {
   "cell_type": "markdown",
   "id": "64d771c8",
   "metadata": {},
   "source": [
    "# 7. Write a python program to Print all items by referring to their index number (thislist = [\"Java\", \"SQL\", \"C\", \"Reactnative\", \"Javascript\", \"Python\"]"
   ]
  },
  {
   "cell_type": "code",
   "execution_count": 21,
   "id": "fec756be",
   "metadata": {},
   "outputs": [
    {
     "name": "stdout",
     "output_type": "stream",
     "text": [
      "The value of list in index numbeer  0 is Java\n",
      "The value of list in index numbeer  1 is SQL\n",
      "The value of list in index numbeer  2 is C\n",
      "The value of list in index numbeer  3 is Reactnative\n",
      "The value of list in index numbeer  4 is Javascript\n",
      "The value of list in index numbeer  5 is Python\n"
     ]
    }
   ],
   "source": [
    "thislist = [\"Java\", \"SQL\", \"C\", \"Reactnative\", \"Javascript\", \"Python\"]\n",
    "for i in range(6) :\n",
    "    print(\"The value of list in index numbeer \",i,\"is\",thislist[i])  # print the items by index number\n",
    "    \n",
    "    "
   ]
  },
  {
   "cell_type": "markdown",
   "id": "3fd58b90",
   "metadata": {},
   "source": [
    "# 8. Write a python program to sort the list alphanumerically – thislist = [\"Java\", \"SQL\", \"C\", \"Reactjs\", \"Javascript\", \"Python\"]"
   ]
  },
  {
   "cell_type": "code",
   "execution_count": 33,
   "id": "b3dcf0eb",
   "metadata": {},
   "outputs": [
    {
     "ename": "AttributeError",
     "evalue": "'list' object has no attribute 'sorted'",
     "output_type": "error",
     "traceback": [
      "\u001b[1;31m---------------------------------------------------------------------------\u001b[0m",
      "\u001b[1;31mAttributeError\u001b[0m                            Traceback (most recent call last)",
      "Input \u001b[1;32mIn [33]\u001b[0m, in \u001b[0;36m<cell line: 3>\u001b[1;34m()\u001b[0m\n\u001b[0;32m      1\u001b[0m thislist \u001b[38;5;241m=\u001b[39m [\u001b[38;5;124m\"\u001b[39m\u001b[38;5;124mJava\u001b[39m\u001b[38;5;124m\"\u001b[39m, \u001b[38;5;124m\"\u001b[39m\u001b[38;5;124mSQL\u001b[39m\u001b[38;5;124m\"\u001b[39m, \u001b[38;5;124m\"\u001b[39m\u001b[38;5;124mC\u001b[39m\u001b[38;5;124m\"\u001b[39m, \u001b[38;5;124m\"\u001b[39m\u001b[38;5;124mReactjs\u001b[39m\u001b[38;5;124m\"\u001b[39m, \u001b[38;5;124m\"\u001b[39m\u001b[38;5;124mJavascript\u001b[39m\u001b[38;5;124m\"\u001b[39m, \u001b[38;5;124m\"\u001b[39m\u001b[38;5;124mPython\u001b[39m\u001b[38;5;124m\"\u001b[39m]\n\u001b[1;32m----> 3\u001b[0m \u001b[43mthislist\u001b[49m\u001b[38;5;241;43m.\u001b[39;49m\u001b[43msorted\u001b[49m() \u001b[38;5;66;03m# iT sort in string value by alphanumerically \u001b[39;00m\n\u001b[0;32m      5\u001b[0m \u001b[38;5;28mprint\u001b[39m(thislist)\n",
      "\u001b[1;31mAttributeError\u001b[0m: 'list' object has no attribute 'sorted'"
     ]
    }
   ],
   "source": [
    "thislist = [\"Java\", \"SQL\", \"C\", \"Reactjs\", \"Javascript\", \"Python\"]\n",
    "\n",
    "thislist.sort() # iT sort in string value by alphanumerically \n",
    "\n",
    "print(thislist)"
   ]
  },
  {
   "cell_type": "markdown",
   "id": "fa26d7fb",
   "metadata": {},
   "source": [
    "# 9. Write a Python script to create a list of city names taken from the user."
   ]
  },
  {
   "cell_type": "code",
   "execution_count": 28,
   "id": "bc8150a6",
   "metadata": {},
   "outputs": [
    {
     "name": "stdout",
     "output_type": "stream",
     "text": [
      "How many city name you have to enter : 3\n",
      "Enter the city name : Dhar\n",
      "Enter the city name : Indore\n",
      "Enter the city name : Ratlam\n",
      "['Dhar', 'Indore', 'Ratlam']\n"
     ]
    }
   ],
   "source": [
    "mylist=[] #empty list\n",
    "\n",
    "num = int(input(\"How many city name you have to enter : \")) # take the index number of list\n",
    "\n",
    "for i in range(num):\n",
    "    \n",
    "    a=input(\"Enter the city name : \") # user gives  the value and it will store in variable a\n",
    "    mylist.append(a) # new element enter in the end of the list by append function\n",
    "    \n",
    "print(mylist) # print the list"
   ]
  },
  {
   "cell_type": "code",
   "execution_count": 32,
   "id": "2370a603",
   "metadata": {},
   "outputs": [
    {
     "name": "stdout",
     "output_type": "stream",
     "text": [
      "How many city name you have to enter : 3\n",
      "enter the city name : Dhar\n",
      "enter the city name : Indore\n",
      "enter the city name : Ratlam\n",
      "[None, None, None]\n"
     ]
    }
   ],
   "source": [
    "mylist=[]\n",
    "num = int(input(\"How many city name you have to enter : \"))\n",
    "a=[mylist.append(input(\"enter the city name : \")) for i in range (num)]\n",
    "print(a)"
   ]
  },
  {
   "cell_type": "markdown",
   "id": "1c2ffaed",
   "metadata": {},
   "source": [
    "# 10 Write a Python script to create a list, where each element of the list is a digit of a given number."
   ]
  },
  {
   "cell_type": "code",
   "execution_count": null,
   "id": "67ebbf49",
   "metadata": {},
   "outputs": [],
   "source": []
  }
 ],
 "metadata": {
  "kernelspec": {
   "display_name": "Python 3 (ipykernel)",
   "language": "python",
   "name": "python3"
  },
  "language_info": {
   "codemirror_mode": {
    "name": "ipython",
    "version": 3
   },
   "file_extension": ".py",
   "mimetype": "text/x-python",
   "name": "python",
   "nbconvert_exporter": "python",
   "pygments_lexer": "ipython3",
   "version": "3.10.5"
  }
 },
 "nbformat": 4,
 "nbformat_minor": 5
}
