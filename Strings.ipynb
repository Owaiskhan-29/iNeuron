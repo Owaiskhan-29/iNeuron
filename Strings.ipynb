{
 "cells": [
  {
   "cell_type": "markdown",
   "id": "1d3c3ac1",
   "metadata": {},
   "source": [
    "# 1. Write a python script to create a String in 3 different possible ways"
   ]
  },
  {
   "cell_type": "code",
   "execution_count": 7,
   "id": "0c10be95",
   "metadata": {},
   "outputs": [
    {
     "name": "stdout",
     "output_type": "stream",
     "text": [
      "INeuron\n",
      "Course\n",
      "python\n"
     ]
    }
   ],
   "source": [
    "# 1st way\n",
    "\"\"\"this is python code\"\"\"\n",
    "s1='INeuron'\n",
    "s2=\"Course\"\n",
    "s3=\"\"\"python\"\"\"\n",
    "print(s1,s2,s3 , sep='\\n')"
   ]
  },
  {
   "cell_type": "markdown",
   "id": "50fd89bf",
   "metadata": {},
   "source": [
    "# 2. Write a python script to Get the characters from the start to position 5 (Given String “iNeuron” using the slice syntax)"
   ]
  },
  {
   "cell_type": "code",
   "execution_count": 8,
   "id": "19fa6273",
   "metadata": {},
   "outputs": [
    {
     "name": "stdout",
     "output_type": "stream",
     "text": [
      "iNeur\n"
     ]
    }
   ],
   "source": [
    "char=\"iNeuron\"\n",
    "print(char[:5]) #slicing"
   ]
  },
  {
   "cell_type": "markdown",
   "id": "d9afd21d",
   "metadata": {},
   "source": [
    "# 3. Write a python script to Get the characters from position 2 to position 5 (Given String “Hello Learners” using the slice syntax)"
   ]
  },
  {
   "cell_type": "code",
   "execution_count": 10,
   "id": "0e7f07f8",
   "metadata": {},
   "outputs": [
    {
     "data": {
      "text/plain": [
       "'llo'"
      ]
     },
     "execution_count": 10,
     "metadata": {},
     "output_type": "execute_result"
    }
   ],
   "source": [
    "char= \"Hello Learners\"\n",
    "char[2:5] #slicing"
   ]
  },
  {
   "cell_type": "markdown",
   "id": "af94f60f",
   "metadata": {},
   "source": [
    "# 4. Write a python script to demonstrate String Concatenation adding space in between (Given Strings a=”Learning” b=”Python” )"
   ]
  },
  {
   "cell_type": "code",
   "execution_count": 11,
   "id": "6a8f6e8f",
   "metadata": {},
   "outputs": [
    {
     "name": "stdout",
     "output_type": "stream",
     "text": [
      "Learning Python\n"
     ]
    }
   ],
   "source": [
    "a=\"Learning\" \n",
    "b=\"Python\"\n",
    "print(a+\" \"+b) # string concatenation"
   ]
  },
  {
   "cell_type": "markdown",
   "id": "cc23149a",
   "metadata": {},
   "source": [
    "\n",
    "# 5. Write a python script to get the count of total number of characters in String a=“iNeuron”"
   ]
  },
  {
   "cell_type": "code",
   "execution_count": 12,
   "id": "38d145a2",
   "metadata": {},
   "outputs": [
    {
     "name": "stdout",
     "output_type": "stream",
     "text": [
      "7\n"
     ]
    }
   ],
   "source": [
    "a=\"iNeuron\"\n",
    "print(len(a))"
   ]
  },
  {
   "cell_type": "markdown",
   "id": "dcd1272c",
   "metadata": {},
   "source": [
    "# 6. Write a python script to reverse a String. (“iNeuron”)"
   ]
  },
  {
   "cell_type": "code",
   "execution_count": 13,
   "id": "7dd33836",
   "metadata": {},
   "outputs": [
    {
     "name": "stdout",
     "output_type": "stream",
     "text": [
      "norueNi\n"
     ]
    }
   ],
   "source": [
    "a=\"iNeuron\"\n",
    "print(a[::-1])"
   ]
  },
  {
   "cell_type": "markdown",
   "id": "86c52a23",
   "metadata": {},
   "source": [
    "# 7. Write a python script to determine whether a string contains a specific substring."
   ]
  },
  {
   "cell_type": "code",
   "execution_count": 18,
   "id": "dfd03d2f",
   "metadata": {},
   "outputs": [
    {
     "name": "stdout",
     "output_type": "stream",
     "text": [
      "is\n",
      "['yes']\n"
     ]
    }
   ],
   "source": [
    "a=\"this is my code\"\n",
    "\n",
    "print(['yes' if input() in a else \"no\"])\n"
   ]
  },
  {
   "cell_type": "markdown",
   "id": "41c21ed7",
   "metadata": {},
   "source": [
    "# 8 Write a python script to check if a string contains only numbers."
   ]
  },
  {
   "cell_type": "code",
   "execution_count": 22,
   "id": "5866ade2",
   "metadata": {},
   "outputs": [
    {
     "data": {
      "text/plain": [
       "False"
      ]
     },
     "execution_count": 22,
     "metadata": {},
     "output_type": "execute_result"
    }
   ],
   "source": [
    "a='9397thename'\n",
    "a.isdigit()"
   ]
  },
  {
   "cell_type": "markdown",
   "id": "3e7f14a8",
   "metadata": {},
   "source": [
    "# 9 Write a python script to check if a string contains only characters of the alphabet."
   ]
  },
  {
   "cell_type": "code",
   "execution_count": 24,
   "id": "47a96798",
   "metadata": {},
   "outputs": [
    {
     "data": {
      "text/plain": [
       "True"
      ]
     },
     "execution_count": 24,
     "metadata": {},
     "output_type": "execute_result"
    }
   ],
   "source": [
    "a='9397thename'\n",
    "a.isalpha()"
   ]
  },
  {
   "cell_type": "markdown",
   "id": "2ac6050b",
   "metadata": {},
   "source": [
    "# 10 Write a python script to convert an integer to a string."
   ]
  },
  {
   "cell_type": "code",
   "execution_count": 30,
   "id": "b4a6fc1a",
   "metadata": {},
   "outputs": [
    {
     "name": "stdout",
     "output_type": "stream",
     "text": [
      "Enter the number 124\n",
      "The type of a is now <class 'str'>\n"
     ]
    }
   ],
   "source": [
    "a=int(input(\"Enter the number \"))\n",
    "a=str(a)\n",
    "print(f'The type of a is now {type(a)}') #using f string\n",
    "\n"
   ]
  },
  {
   "cell_type": "code",
   "execution_count": null,
   "id": "e7ae9a0f",
   "metadata": {},
   "outputs": [],
   "source": []
  }
 ],
 "metadata": {
  "kernelspec": {
   "display_name": "Python 3 (ipykernel)",
   "language": "python",
   "name": "python3"
  },
  "language_info": {
   "codemirror_mode": {
    "name": "ipython",
    "version": 3
   },
   "file_extension": ".py",
   "mimetype": "text/x-python",
   "name": "python",
   "nbconvert_exporter": "python",
   "pygments_lexer": "ipython3",
   "version": "3.9.13"
  }
 },
 "nbformat": 4,
 "nbformat_minor": 5
}
