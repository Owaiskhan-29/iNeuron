{
 "cells": [
  {
   "cell_type": "markdown",
   "id": "301b9071",
   "metadata": {},
   "source": [
    "# 1. Write a python script to store multiple items in a single variable ( Items are “Java”,“Python”, “SQL”, “C” ) using tuple"
   ]
  },
  {
   "cell_type": "code",
   "execution_count": 3,
   "id": "e141ced4",
   "metadata": {},
   "outputs": [
    {
     "data": {
      "text/plain": [
       "tuple"
      ]
     },
     "execution_count": 3,
     "metadata": {},
     "output_type": "execute_result"
    }
   ],
   "source": [
    "a=\"Java\",\"Python\",\"SQL\",\"C\"\n",
    "type(a)"
   ]
  },
  {
   "cell_type": "markdown",
   "id": "5db2a18f",
   "metadata": {},
   "source": [
    "# 2. Write a python program to store only one item using tuple."
   ]
  },
  {
   "cell_type": "code",
   "execution_count": 6,
   "id": "1574d199",
   "metadata": {},
   "outputs": [
    {
     "data": {
      "text/plain": [
       "tuple"
      ]
     },
     "execution_count": 6,
     "metadata": {},
     "output_type": "execute_result"
    }
   ],
   "source": [
    "a=(\"TOMandJERRY\",)\n",
    "type(a)"
   ]
  },
  {
   "cell_type": "markdown",
   "id": "f158e5e0",
   "metadata": {},
   "source": [
    "# 3. Write a python program to reverse the tuple"
   ]
  },
  {
   "cell_type": "code",
   "execution_count": 7,
   "id": "f13e6659",
   "metadata": {},
   "outputs": [
    {
     "name": "stdout",
     "output_type": "stream",
     "text": [
      "('C', 'SQL', 'Python', 'Java')\n"
     ]
    }
   ],
   "source": [
    "a=\"Java\",\"Python\",\"SQL\",\"C\"\n",
    "print(a[::-1])"
   ]
  },
  {
   "cell_type": "markdown",
   "id": "665aaca6",
   "metadata": {},
   "source": [
    "# 4. Write a python program to Swap two tuples in Python."
   ]
  },
  {
   "cell_type": "code",
   "execution_count": 19,
   "id": "f21ef0f2",
   "metadata": {},
   "outputs": [
    {
     "name": "stdout",
     "output_type": "stream",
     "text": [
      "After swap the \n",
      "Value of a is ('Java', 'Python', 'SQL', 'C')\n",
      "Value of b is ('Laptop', 'Mobile', 'Computer', 'Camera')\n",
      "After swap the \n",
      "Value of a is ('Laptop', 'Mobile', 'Computer', 'Camera')\n",
      "Value of b is ('Java', 'Python', 'SQL', 'C')\n"
     ]
    }
   ],
   "source": [
    "a=\"Java\",\"Python\",\"SQL\",\"C\"\n",
    "b=(\"Laptop\",\"Mobile\",\"Computer\",\"Camera\")\n",
    "\n",
    "print(f\"After swap the \\nValue of a is {a}\\nValue of b is {b}\")\n",
    "\n",
    "a,b=b,a #swap the tuples\n",
    "\n",
    "print(f\"After swap the \\nValue of a is {a}\\nValue of b is {b}\")"
   ]
  },
  {
   "cell_type": "markdown",
   "id": "dcfa4a1c",
   "metadata": {},
   "source": [
    "# 5. Write a python program to check if all items in the tuple are the same.\n"
   ]
  },
  {
   "cell_type": "code",
   "execution_count": null,
   "id": "b6fe984e",
   "metadata": {},
   "outputs": [],
   "source": [
    "a=\"Java\",\"Python\",\"SQL\",\"C\"\n",
    "print([\"Yes\" if a.count(input()) >0 else \"False\"])\n"
   ]
  },
  {
   "cell_type": "markdown",
   "id": "0185f1e3",
   "metadata": {},
   "source": [
    "# 6. Write a python program to divide the tuple into four variables. tuple1=(100, 200, 300, 400)"
   ]
  },
  {
   "cell_type": "code",
   "execution_count": 7,
   "id": "57b0fb83",
   "metadata": {},
   "outputs": [
    {
     "name": "stdout",
     "output_type": "stream",
     "text": [
      "100 200 300 400\n"
     ]
    }
   ],
   "source": [
    "tuple1=(100, 200, 300, 400)\n",
    "a,b,c,d=tuple1\n",
    "print(a,b,c,d)"
   ]
  },
  {
   "cell_type": "markdown",
   "id": "1fed3c5d",
   "metadata": {},
   "source": [
    "# 7. Write a python program to copy elements 4 and 5 from the following tuple into a new tuple. tuple1=(1,2,3,4,5,6)"
   ]
  },
  {
   "cell_type": "code",
   "execution_count": 9,
   "id": "583fb54d",
   "metadata": {
    "scrolled": true
   },
   "outputs": [
    {
     "name": "stdout",
     "output_type": "stream",
     "text": [
      "(4, 5)\n"
     ]
    }
   ],
   "source": [
    "tuple1=(1,2,3,4,5,6)\n",
    "t=tuple1[3:5]\n",
    "print(t)"
   ]
  },
  {
   "cell_type": "code",
   "execution_count": 34,
   "id": "d0c09c35",
   "metadata": {},
   "outputs": [],
   "source": [
    "tu=()"
   ]
  },
  {
   "cell_type": "markdown",
   "id": "b9195d1e",
   "metadata": {},
   "source": [
    "# 8. Write a python program to Sort a tuple of tuples by the second item. tuple1 = (('a', 21),('b', 37),('c', 11), ('d',29))"
   ]
  },
  {
   "cell_type": "code",
   "execution_count": 72,
   "id": "0aca3be1",
   "metadata": {},
   "outputs": [
    {
     "name": "stdout",
     "output_type": "stream",
     "text": [
      "('c', 11)\n",
      "('a', 21)\n",
      "('d', 29)\n",
      "('b', 37)\n",
      "[('c', 11), ('a', 21), ('d', 29), ('b', 37)]\n"
     ]
    }
   ],
   "source": [
    "tuple1 = (('a', 21),('b', 37),('c', 11), ('d',29))\n",
    "\n",
    "a=[]\n",
    "answer=[]\n",
    "    \n",
    "for i in range(len(tuple1)):\n",
    "    a.append(tuple1[i][1])\n",
    "\n",
    "a.sort()\n",
    "b=tuple(a)\n",
    "for i in range(len(tuple1)):\n",
    "    for j in range(len(tuple1)):\n",
    "        if (tuple1[j][1]==b[i]):\n",
    "            answer.append(tuple1[j])\n",
    "\n",
    "print(answer)\n",
    "            \n",
    "        \n",
    "        "
   ]
  },
  {
   "cell_type": "markdown",
   "id": "398cd8fe",
   "metadata": {},
   "source": [
    "# 9. Write a python program to print the value 20 from given nested tuple. tuple1 = (\"Python\", [10, 20, 30], (2, 4, 16))"
   ]
  },
  {
   "cell_type": "code",
   "execution_count": 75,
   "id": "bf3fd56c",
   "metadata": {},
   "outputs": [
    {
     "name": "stdout",
     "output_type": "stream",
     "text": [
      "20\n"
     ]
    }
   ],
   "source": [
    "tuple1 = (\"Python\", [10, 20, 30], (2, 4, 16))\n",
    "print(tuple1[1][1])"
   ]
  },
  {
   "cell_type": "markdown",
   "id": "fc7a75e1",
   "metadata": {},
   "source": [
    "# 10. Write a python program to change the first item (22) of a list within the following tuple to 222.    tuple1 = (11, [22, 33], 44, 55)"
   ]
  },
  {
   "cell_type": "code",
   "execution_count": 79,
   "id": "d8f4436c",
   "metadata": {},
   "outputs": [
    {
     "name": "stdout",
     "output_type": "stream",
     "text": [
      "[11, [222, 33], 44, 55]\n"
     ]
    }
   ],
   "source": [
    "tuple1 = (11, [22, 33], 44, 55)\n",
    "a=list(tuple1)\n",
    "a[1][0]=222\n",
    "print(a)"
   ]
  }
 ],
 "metadata": {
  "kernelspec": {
   "display_name": "Python 3 (ipykernel)",
   "language": "python",
   "name": "python3"
  },
  "language_info": {
   "codemirror_mode": {
    "name": "ipython",
    "version": 3
   },
   "file_extension": ".py",
   "mimetype": "text/x-python",
   "name": "python",
   "nbconvert_exporter": "python",
   "pygments_lexer": "ipython3",
   "version": "3.9.13"
  }
 },
 "nbformat": 4,
 "nbformat_minor": 5
}
