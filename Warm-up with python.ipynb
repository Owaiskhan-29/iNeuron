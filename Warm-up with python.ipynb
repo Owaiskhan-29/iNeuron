{
 "cells": [
  {
   "cell_type": "markdown",
   "id": "10fb1f9a",
   "metadata": {},
   "source": [
    "Q1 Write a command to get the Python version you are using."
   ]
  },
  {
   "cell_type": "code",
   "execution_count": 6,
   "id": "f25854ba",
   "metadata": {},
   "outputs": [
    {
     "name": "stdout",
     "output_type": "stream",
     "text": [
      "python version is :-  3.10.5\n"
     ]
    }
   ],
   "source": [
    "\n",
    "from platform import python_version\n",
    "print(\"python version is :- \", python_version())\n"
   ]
  },
  {
   "cell_type": "markdown",
   "id": "a7d34212",
   "metadata": {},
   "source": [
    "Q2 Write a python script to print Hello Python on the screen directly in the command line."
   ]
  },
  {
   "cell_type": "code",
   "execution_count": 7,
   "id": "159e2d2c",
   "metadata": {},
   "outputs": [
    {
     "name": "stdout",
     "output_type": "stream",
     "text": [
      "Hello Python\n"
     ]
    }
   ],
   "source": [
    "print(\"Hello Python\")"
   ]
  },
  {
   "cell_type": "code",
   "execution_count": null,
   "id": "972afd24",
   "metadata": {},
   "outputs": [],
   "source": []
  }
 ],
 "metadata": {
  "kernelspec": {
   "display_name": "Python 3 (ipykernel)",
   "language": "python",
   "name": "python3"
  },
  "language_info": {
   "codemirror_mode": {
    "name": "ipython",
    "version": 3
   },
   "file_extension": ".py",
   "mimetype": "text/x-python",
   "name": "python",
   "nbconvert_exporter": "python",
   "pygments_lexer": "ipython3",
   "version": "3.10.5"
  }
 },
 "nbformat": 4,
 "nbformat_minor": 5
}
