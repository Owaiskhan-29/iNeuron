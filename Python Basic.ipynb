{
 "cells": [
  {
   "cell_type": "markdown",
   "id": "6f5a0a8a",
   "metadata": {},
   "source": [
    "## Write a python script to add comments and print “Learning Python” on screen."
   ]
  },
  {
   "cell_type": "code",
   "execution_count": 1,
   "id": "0fca5356",
   "metadata": {},
   "outputs": [
    {
     "name": "stdout",
     "output_type": "stream",
     "text": [
      "Learning python\n"
     ]
    }
   ],
   "source": [
    "# printing Learning Python\n",
    "print(\"Learning python\")"
   ]
  },
  {
   "cell_type": "markdown",
   "id": "692387ed",
   "metadata": {},
   "source": [
    "## Write a python script to add multi line comments and print values of four variables, each in a new line. Variable contains any values."
   ]
  },
  {
   "cell_type": "code",
   "execution_count": 8,
   "id": "f3447e5b",
   "metadata": {},
   "outputs": [
    {
     "name": "stdout",
     "output_type": "stream",
     "text": [
      "Owais\n",
      "5\n",
      "7.6\n",
      "ineuron\n"
     ]
    }
   ],
   "source": [
    "\"\"\"  \n",
    "Adding multi line commnets\n",
    "And printing four value\n",
    "\n",
    "\"\"\"\n",
    "a,b,c,d = \"Owais\",5,7.6,\"ineuron\"\n",
    "print(a,b,c,d,sep=\"\\n\")"
   ]
  },
  {
   "cell_type": "markdown",
   "id": "6514f0c2",
   "metadata": {},
   "source": [
    "## Write a python script to print types of variables. Create 5 variables each of them containing different types of data. (like 35, True, “MySirG”,5.46, 3+4j, etc)"
   ]
  },
  {
   "cell_type": "code",
   "execution_count": 16,
   "id": "a3e05167",
   "metadata": {},
   "outputs": [
    {
     "name": "stdout",
     "output_type": "stream",
     "text": [
      "<class 'int'>\n",
      "<class 'bool'>\n",
      "<class 'str'>\n",
      "<class 'float'>\n",
      "<class 'complex'>\n"
     ]
    }
   ],
   "source": [
    "a,b,c,d,e = 35, True,\"MySirG\",5.46, 3+4j\n",
    "print(type(a))\n",
    "print(type(b))\n",
    "print(type(c))\n",
    "print(type(d))\n",
    "print(type(e))"
   ]
  },
  {
   "cell_type": "markdown",
   "id": "44431bbb",
   "metadata": {},
   "source": [
    "## Write a python script to print the id of two variables containing the same integer values.\n"
   ]
  },
  {
   "cell_type": "code",
   "execution_count": 18,
   "id": "471aa5c4",
   "metadata": {},
   "outputs": [
    {
     "name": "stdout",
     "output_type": "stream",
     "text": [
      "1961270969648\n",
      "1961270969648\n"
     ]
    }
   ],
   "source": [
    "a=35\n",
    "b=35\n",
    "print(id(a))\n",
    "print(id(b))"
   ]
  },
  {
   "cell_type": "markdown",
   "id": "95b7c7a1",
   "metadata": {},
   "source": [
    "## Create four variables in a Python script and assign values of different data types to them. Write a Python script to print value, its type and id of each variable"
   ]
  },
  {
   "cell_type": "code",
   "execution_count": null,
   "id": "5cde6e57",
   "metadata": {},
   "outputs": [],
   "source": [
    "a,b,c,d = \"Owais\",5,7.6,\"ineuron\"\n"
   ]
  },
  {
   "cell_type": "markdown",
   "id": "aca7e2e0",
   "metadata": {},
   "source": [
    "## Write a python script to print all the keywords"
   ]
  },
  {
   "cell_type": "code",
   "execution_count": 51,
   "id": "b381f824",
   "metadata": {},
   "outputs": [
    {
     "name": "stdout",
     "output_type": "stream",
     "text": [
      "['False', 'None', 'True', 'and', 'as', 'assert', 'async', 'await', 'break', 'class', 'continue', 'def', 'del', 'elif', 'else', 'except', 'finally', 'for', 'from', 'global', 'if', 'import', 'in', 'is', 'lambda', 'nonlocal', 'not', 'or', 'pass', 'raise', 'return', 'try', 'while', 'with', 'yield']\n"
     ]
    }
   ],
   "source": [
    "import keyword\n",
    "print(keyword.kwlist)\n",
    "\n"
   ]
  },
  {
   "cell_type": "markdown",
   "id": "7ecf0a60",
   "metadata": {},
   "source": [
    "## On Python shell use help() function and display the list of keywords"
   ]
  },
  {
   "cell_type": "code",
   "execution_count": 53,
   "id": "27a2364f",
   "metadata": {},
   "outputs": [
    {
     "name": "stdout",
     "output_type": "stream",
     "text": [
      "\n",
      "Here is a list of the Python keywords.  Enter any keyword to get more help.\n",
      "\n",
      "False               class               from                or\n",
      "None                continue            global              pass\n",
      "True                def                 if                  raise\n",
      "and                 del                 import              return\n",
      "as                  elif                in                  try\n",
      "assert              else                is                  while\n",
      "async               except              lambda              with\n",
      "await               finally             nonlocal            yield\n",
      "break               for                 not                 \n",
      "\n"
     ]
    }
   ],
   "source": [
    "help(\"keywords\")"
   ]
  },
  {
   "cell_type": "markdown",
   "id": "10220b46",
   "metadata": {},
   "source": [
    "## Create two Python files A0.py and A1.py. Create a variable in A1.py and assign some value to it. Write a python script to import A1 module in A0 and print value of the variable created in A0.py\n"
   ]
  },
  {
   "cell_type": "code",
   "execution_count": 60,
   "id": "fad0100a",
   "metadata": {},
   "outputs": [
    {
     "name": "stdout",
     "output_type": "stream",
     "text": [
      "20\n",
      "owais\n"
     ]
    }
   ],
   "source": [
    "import A0   \n",
    "print(A0.x)\n",
    "print(A0.y)"
   ]
  },
  {
   "cell_type": "markdown",
   "id": "5de8e4c5",
   "metadata": {},
   "source": [
    "## Name the keywords, used as data in the Python scrip"
   ]
  },
  {
   "cell_type": "markdown",
   "id": "97a7c9c2",
   "metadata": {},
   "source": [
    "The keywords that we can use as data are None, True, False"
   ]
  },
  {
   "cell_type": "markdown",
   "id": "57a5cc45",
   "metadata": {},
   "source": [
    "## Write a python script to display the current date and time. First create variables to store date and time, then display date and time in proper format (like: 13-8-2022 and 9:00 PM"
   ]
  },
  {
   "cell_type": "code",
   "execution_count": 62,
   "id": "d02c5a4e",
   "metadata": {},
   "outputs": [
    {
     "name": "stdout",
     "output_type": "stream",
     "text": [
      "8-12-2022 and 9:00 PM\n"
     ]
    }
   ],
   "source": [
    "date=\"8-12-2022\"  #storing date in date variable\n",
    "time=\"9:00 PM\"    #storing time in time variable\n",
    "\n",
    "print(date,\"and\",time)"
   ]
  }
 ],
 "metadata": {
  "kernelspec": {
   "display_name": "Python 3 (ipykernel)",
   "language": "python",
   "name": "python3"
  },
  "language_info": {
   "codemirror_mode": {
    "name": "ipython",
    "version": 3
   },
   "file_extension": ".py",
   "mimetype": "text/x-python",
   "name": "python",
   "nbconvert_exporter": "python",
   "pygments_lexer": "ipython3",
   "version": "3.10.5"
  }
 },
 "nbformat": 4,
 "nbformat_minor": 5
}
