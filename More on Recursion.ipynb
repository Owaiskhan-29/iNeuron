{
 "cells": [
  {
   "cell_type": "markdown",
   "id": "cbad3b7d",
   "metadata": {},
   "source": [
    "# 1 Write a recursive python function to calculate sum of first N natural numbers"
   ]
  },
  {
   "cell_type": "code",
   "execution_count": 3,
   "id": "add465f2",
   "metadata": {},
   "outputs": [
    {
     "data": {
      "text/plain": [
       "15"
      ]
     },
     "execution_count": 3,
     "metadata": {},
     "output_type": "execute_result"
    }
   ],
   "source": [
    "def sum_num(n):\n",
    "    if n==1:\n",
    "        return 1\n",
    "    return n+sum_num(n-1)\n",
    "sum_num(5)\n",
    "        "
   ]
  },
  {
   "cell_type": "markdown",
   "id": "dea5eb90",
   "metadata": {},
   "source": [
    "# 2. Write a recursive python function to calculate sum of first N odd natural numbers"
   ]
  },
  {
   "cell_type": "code",
   "execution_count": null,
   "id": "540509cc",
   "metadata": {},
   "outputs": [],
   "source": [
    "def odd_s(n):\n"
   ]
  }
 ],
 "metadata": {
  "kernelspec": {
   "display_name": "Python 3 (ipykernel)",
   "language": "python",
   "name": "python3"
  },
  "language_info": {
   "codemirror_mode": {
    "name": "ipython",
    "version": 3
   },
   "file_extension": ".py",
   "mimetype": "text/x-python",
   "name": "python",
   "nbconvert_exporter": "python",
   "pygments_lexer": "ipython3",
   "version": "3.10.5"
  }
 },
 "nbformat": 4,
 "nbformat_minor": 5
}
